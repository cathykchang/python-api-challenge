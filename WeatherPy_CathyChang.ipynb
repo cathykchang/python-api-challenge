{
 "cells": [
  {
   "cell_type": "markdown",
   "metadata": {},
   "source": [
    "# WeatherPy\n",
    "----\n",
    "\n",
    "#### Note\n",
    "* Instructions have been included for each segment. You do not have to follow them exactly, but they are included to help you think through the steps."
   ]
  },
  {
   "cell_type": "code",
   "execution_count": 1,
   "metadata": {
    "scrolled": true
   },
   "outputs": [],
   "source": [
    "# Dependencies and Setup\n",
    "import matplotlib.pyplot as plt\n",
    "import pandas as pd\n",
    "import numpy as np\n",
    "import requests\n",
    "import time\n",
    "from scipy.stats import linregress\n",
    "\n",
    "# Import API key\n",
    "from api_keys import weather_api_key\n",
    "\n",
    "# Incorporated citipy to determine city based on latitude and longitude\n",
    "from citipy import citipy\n",
    "\n",
    "# Output File (CSV)\n",
    "output_data_file = \"output_data/cities.csv\"\n",
    "\n",
    "# Range of latitudes and longitudes\n",
    "lat_range = (-90, 90)\n",
    "lng_range = (-180, 180)"
   ]
  },
  {
   "cell_type": "markdown",
   "metadata": {},
   "source": [
    "## Generate Cities List"
   ]
  },
  {
   "cell_type": "code",
   "execution_count": 2,
   "metadata": {},
   "outputs": [
    {
     "data": {
      "text/plain": [
       "18"
      ]
     },
     "execution_count": 2,
     "metadata": {},
     "output_type": "execute_result"
    }
   ],
   "source": [
    "# List for holding lat_lngs and cities\n",
    "lat_lngs = []\n",
    "cities = []\n",
    "\n",
    "# Create a set of random lat and lng combinations\n",
    "# lats = np.random.uniform(lat_range[0], lat_range[1], size=1500)\n",
    "# lngs = np.random.uniform(lng_range[0], lng_range[1], size=1500)\n",
    "# lat_lngs = zip(lats, lngs)\n",
    "\n",
    "# Create a set of random lat and lng combinations\n",
    "lats = np.random.uniform(lat_range[0], lat_range[1], size=20)\n",
    "lngs = np.random.uniform(lng_range[0], lng_range[1], size=20)\n",
    "lat_lngs = zip(lats, lngs)\n",
    "\n",
    "\n",
    "# Identify nearest city for each lat, lng combination\n",
    "for lat_lng in lat_lngs:\n",
    "    city = citipy.nearest_city(lat_lng[0], lat_lng[1]).city_name\n",
    "    \n",
    "    # If the city is unique, then add it to a our cities list\n",
    "    if city not in cities:\n",
    "        cities.append(city)\n",
    "\n",
    "# Print the city count to confirm sufficient count\n",
    "len(cities)"
   ]
  },
  {
   "cell_type": "code",
   "execution_count": 3,
   "metadata": {},
   "outputs": [
    {
     "name": "stdout",
     "output_type": "stream",
     "text": [
      "['butaritari', 'catuday', 'daru', 'chuy', 'port alfred', 'jamestown', 'guanica', 'busselton', 'svetlogorsk', 'hermanus', 'hilo', 'newport', 'huarmey', 'kuche', 'poum', 'laguna', 'arman', 'bredasdorp']\n"
     ]
    }
   ],
   "source": [
    "print(cities)"
   ]
  },
  {
   "cell_type": "markdown",
   "metadata": {},
   "source": [
    "### Perform API Calls\n",
    "* Perform a weather check on each city using a series of successive API calls.\n",
    "* Include a print log of each city as it'sbeing processed (with the city number and city name).\n"
   ]
  },
  {
   "cell_type": "code",
   "execution_count": 4,
   "metadata": {},
   "outputs": [
    {
     "data": {
      "text/plain": [
       "18"
      ]
     },
     "execution_count": 4,
     "metadata": {},
     "output_type": "execute_result"
    }
   ],
   "source": [
    "len(cities)"
   ]
  },
  {
   "cell_type": "code",
   "execution_count": 5,
   "metadata": {},
   "outputs": [],
   "source": [
    "# temperature (F), humidity (%), cloudiness (%), wind speed (%)\n",
    "# save config information\n",
    "url = \"https://api.openweathermap.org/data/2.5/weather?\"\n",
    "\n",
    "# https://api.openweathermap.org/data/2.5/weather?q={city name}&appid={API key}"
   ]
  },
  {
   "cell_type": "code",
   "execution_count": 9,
   "metadata": {},
   "outputs": [
    {
     "name": "stdout",
     "output_type": "stream",
     "text": [
      "butaritari found, adding data for city # 1\n",
      "catuday found, adding data for city # 2\n",
      "daru found, adding data for city # 3\n",
      "chuy found, adding data for city # 4\n",
      "port alfred found, adding data for city # 5\n",
      "jamestown found, adding data for city # 6\n",
      "guanica found, adding data for city # 7\n",
      "busselton found, adding data for city # 8\n",
      "svetlogorsk found, adding data for city # 9\n",
      "hermanus found, adding data for city # 10\n",
      "hilo found, adding data for city # 11\n",
      "newport found, adding data for city # 12\n",
      "huarmey found, adding data for city # 13\n",
      "City not found\n",
      "poum found, adding data for city # 14\n",
      "laguna found, adding data for city # 15\n",
      "arman found, adding data for city # 16\n",
      "bredasdorp found, adding data for city # 17\n"
     ]
    }
   ],
   "source": [
    "# set up lists to hold response info\n",
    "new_cities = []\n",
    "lat = []\n",
    "lng = []\n",
    "country = []\n",
    "datetime = []\n",
    "temp = []\n",
    "humid = []\n",
    "cloud = []\n",
    "wind = []\n",
    "counts = 0\n",
    "index = []\n",
    "\n",
    "# Loop through the list of cities and perform a request for data on each\n",
    "for each in cities:\n",
    "    # build query URL\n",
    "    query_url = url + 'appid=' + weather_api_key + '&units=imperial' + '&q='\n",
    "    response = requests.get(query_url + each).json()\n",
    "    \n",
    "    try:        \n",
    "        \n",
    "        lat.append(response['coord']['lat'])\n",
    "        lng.append(response['coord']['lon'])        \n",
    "        country.append(response['sys']['country'])\n",
    "        datetime.append(response['dt'])\n",
    "        temp.append(response['main']['temp'])\n",
    "        humid.append(response['main']['humidity'])\n",
    "        cloud.append(response['clouds']['all'])\n",
    "        wind.append(response['wind']['speed'])        \n",
    "#         if requests.get(query_url + each)==\"200\":\n",
    "#             new_cities.append(each)\n",
    "        counts += 1\n",
    "        index.append(counts)\n",
    "        print(f\"{each} found, adding data for city # {counts}\")\n",
    "    # handle exceptions for a city that does not have a latitude\n",
    "    except KeyError:\n",
    "        print(\"City not found\")\n",
    "\n",
    "# how can i count the # of successful API calls and use that as the city_ID?     "
   ]
  },
  {
   "cell_type": "code",
   "execution_count": 10,
   "metadata": {},
   "outputs": [
    {
     "data": {
      "text/plain": [
       "17"
      ]
     },
     "execution_count": 10,
     "metadata": {},
     "output_type": "execute_result"
    }
   ],
   "source": [
    "len(index)"
   ]
  },
  {
   "cell_type": "code",
   "execution_count": 16,
   "metadata": {},
   "outputs": [
    {
     "data": {
      "text/html": [
       "<div>\n",
       "<style scoped>\n",
       "    .dataframe tbody tr th:only-of-type {\n",
       "        vertical-align: middle;\n",
       "    }\n",
       "\n",
       "    .dataframe tbody tr th {\n",
       "        vertical-align: top;\n",
       "    }\n",
       "\n",
       "    .dataframe thead th {\n",
       "        text-align: right;\n",
       "    }\n",
       "</style>\n",
       "<table border=\"1\" class=\"dataframe\">\n",
       "  <thead>\n",
       "    <tr style=\"text-align: right;\">\n",
       "      <th></th>\n",
       "      <th>latitude</th>\n",
       "      <th>longitude</th>\n",
       "      <th>temperature (F)</th>\n",
       "      <th>humidity</th>\n",
       "      <th>cloudiness</th>\n",
       "      <th>wind speed</th>\n",
       "    </tr>\n",
       "    <tr>\n",
       "      <th>city ID</th>\n",
       "      <th></th>\n",
       "      <th></th>\n",
       "      <th></th>\n",
       "      <th></th>\n",
       "      <th></th>\n",
       "      <th></th>\n",
       "    </tr>\n",
       "  </thead>\n",
       "  <tbody>\n",
       "    <tr>\n",
       "      <th>0</th>\n",
       "      <td>3.0707</td>\n",
       "      <td>172.7902</td>\n",
       "      <td>81.39</td>\n",
       "      <td>77</td>\n",
       "      <td>18</td>\n",
       "      <td>15.66</td>\n",
       "    </tr>\n",
       "    <tr>\n",
       "      <th>1</th>\n",
       "      <td>16.2923</td>\n",
       "      <td>119.8062</td>\n",
       "      <td>81.28</td>\n",
       "      <td>76</td>\n",
       "      <td>78</td>\n",
       "      <td>1.63</td>\n",
       "    </tr>\n",
       "    <tr>\n",
       "      <th>2</th>\n",
       "      <td>-9.0763</td>\n",
       "      <td>143.2092</td>\n",
       "      <td>79.86</td>\n",
       "      <td>83</td>\n",
       "      <td>26</td>\n",
       "      <td>7.56</td>\n",
       "    </tr>\n",
       "    <tr>\n",
       "      <th>3</th>\n",
       "      <td>-33.6971</td>\n",
       "      <td>-53.4616</td>\n",
       "      <td>65.55</td>\n",
       "      <td>69</td>\n",
       "      <td>64</td>\n",
       "      <td>10.42</td>\n",
       "    </tr>\n",
       "    <tr>\n",
       "      <th>4</th>\n",
       "      <td>-33.5906</td>\n",
       "      <td>26.8910</td>\n",
       "      <td>73.18</td>\n",
       "      <td>84</td>\n",
       "      <td>0</td>\n",
       "      <td>3.00</td>\n",
       "    </tr>\n",
       "    <tr>\n",
       "      <th>5</th>\n",
       "      <td>42.0970</td>\n",
       "      <td>-79.2353</td>\n",
       "      <td>55.42</td>\n",
       "      <td>86</td>\n",
       "      <td>0</td>\n",
       "      <td>4.61</td>\n",
       "    </tr>\n",
       "    <tr>\n",
       "      <th>6</th>\n",
       "      <td>17.9716</td>\n",
       "      <td>-66.9080</td>\n",
       "      <td>85.30</td>\n",
       "      <td>72</td>\n",
       "      <td>47</td>\n",
       "      <td>8.14</td>\n",
       "    </tr>\n",
       "    <tr>\n",
       "      <th>7</th>\n",
       "      <td>-33.6500</td>\n",
       "      <td>115.3333</td>\n",
       "      <td>58.21</td>\n",
       "      <td>85</td>\n",
       "      <td>96</td>\n",
       "      <td>11.32</td>\n",
       "    </tr>\n",
       "    <tr>\n",
       "      <th>8</th>\n",
       "      <td>52.6333</td>\n",
       "      <td>29.7333</td>\n",
       "      <td>51.35</td>\n",
       "      <td>82</td>\n",
       "      <td>100</td>\n",
       "      <td>1.12</td>\n",
       "    </tr>\n",
       "    <tr>\n",
       "      <th>9</th>\n",
       "      <td>-34.4187</td>\n",
       "      <td>19.2345</td>\n",
       "      <td>76.80</td>\n",
       "      <td>77</td>\n",
       "      <td>0</td>\n",
       "      <td>13.87</td>\n",
       "    </tr>\n",
       "    <tr>\n",
       "      <th>10</th>\n",
       "      <td>19.7297</td>\n",
       "      <td>-155.0900</td>\n",
       "      <td>69.84</td>\n",
       "      <td>87</td>\n",
       "      <td>40</td>\n",
       "      <td>4.61</td>\n",
       "    </tr>\n",
       "    <tr>\n",
       "      <th>11</th>\n",
       "      <td>51.5877</td>\n",
       "      <td>-2.9984</td>\n",
       "      <td>59.49</td>\n",
       "      <td>84</td>\n",
       "      <td>72</td>\n",
       "      <td>17.09</td>\n",
       "    </tr>\n",
       "    <tr>\n",
       "      <th>12</th>\n",
       "      <td>-10.0681</td>\n",
       "      <td>-78.1522</td>\n",
       "      <td>65.37</td>\n",
       "      <td>76</td>\n",
       "      <td>70</td>\n",
       "      <td>8.43</td>\n",
       "    </tr>\n",
       "    <tr>\n",
       "      <th>13</th>\n",
       "      <td>-20.2333</td>\n",
       "      <td>164.0167</td>\n",
       "      <td>76.35</td>\n",
       "      <td>82</td>\n",
       "      <td>7</td>\n",
       "      <td>19.93</td>\n",
       "    </tr>\n",
       "    <tr>\n",
       "      <th>14</th>\n",
       "      <td>38.4210</td>\n",
       "      <td>-121.4238</td>\n",
       "      <td>46.08</td>\n",
       "      <td>58</td>\n",
       "      <td>0</td>\n",
       "      <td>0.00</td>\n",
       "    </tr>\n",
       "    <tr>\n",
       "      <th>15</th>\n",
       "      <td>59.7000</td>\n",
       "      <td>150.1667</td>\n",
       "      <td>18.16</td>\n",
       "      <td>70</td>\n",
       "      <td>10</td>\n",
       "      <td>5.30</td>\n",
       "    </tr>\n",
       "    <tr>\n",
       "      <th>16</th>\n",
       "      <td>-34.5322</td>\n",
       "      <td>20.0403</td>\n",
       "      <td>72.64</td>\n",
       "      <td>59</td>\n",
       "      <td>3</td>\n",
       "      <td>14.05</td>\n",
       "    </tr>\n",
       "  </tbody>\n",
       "</table>\n",
       "</div>"
      ],
      "text/plain": [
       "         latitude  longitude  temperature (F)  humidity  cloudiness  \\\n",
       "city ID                                                               \n",
       "0          3.0707   172.7902            81.39        77          18   \n",
       "1         16.2923   119.8062            81.28        76          78   \n",
       "2         -9.0763   143.2092            79.86        83          26   \n",
       "3        -33.6971   -53.4616            65.55        69          64   \n",
       "4        -33.5906    26.8910            73.18        84           0   \n",
       "5         42.0970   -79.2353            55.42        86           0   \n",
       "6         17.9716   -66.9080            85.30        72          47   \n",
       "7        -33.6500   115.3333            58.21        85          96   \n",
       "8         52.6333    29.7333            51.35        82         100   \n",
       "9        -34.4187    19.2345            76.80        77           0   \n",
       "10        19.7297  -155.0900            69.84        87          40   \n",
       "11        51.5877    -2.9984            59.49        84          72   \n",
       "12       -10.0681   -78.1522            65.37        76          70   \n",
       "13       -20.2333   164.0167            76.35        82           7   \n",
       "14        38.4210  -121.4238            46.08        58           0   \n",
       "15        59.7000   150.1667            18.16        70          10   \n",
       "16       -34.5322    20.0403            72.64        59           3   \n",
       "\n",
       "         wind speed  \n",
       "city ID              \n",
       "0             15.66  \n",
       "1              1.63  \n",
       "2              7.56  \n",
       "3             10.42  \n",
       "4              3.00  \n",
       "5              4.61  \n",
       "6              8.14  \n",
       "7             11.32  \n",
       "8              1.12  \n",
       "9             13.87  \n",
       "10             4.61  \n",
       "11            17.09  \n",
       "12             8.43  \n",
       "13            19.93  \n",
       "14             0.00  \n",
       "15             5.30  \n",
       "16            14.05  "
      ]
     },
     "execution_count": 16,
     "metadata": {},
     "output_type": "execute_result"
    }
   ],
   "source": [
    "weatherdata = pd.DataFrame({\n",
    "#     'city_ID': index,    \n",
    "    'latitude': lat,\n",
    "    'longitude': lng,    \n",
    "    'temperature (F)': temp,\n",
    "    'humidity': humid,\n",
    "    'cloudiness': cloud,\n",
    "    'wind speed': wind\n",
    "    \n",
    "})\n",
    "\n",
    "weatherdata = weatherdata.rename_axis(None, axis=1).rename_axis('city ID', axis=0)\n",
    "weatherdata\n"
   ]
  },
  {
   "cell_type": "markdown",
   "metadata": {},
   "source": [
    "### Convert Raw Data to DataFrame\n",
    "* Export the city data into a .csv.\n",
    "* Display the DataFrame"
   ]
  },
  {
   "cell_type": "code",
   "execution_count": 17,
   "metadata": {},
   "outputs": [],
   "source": [
    "# Save Data to csv\n",
    "weatherdata.to_csv(\"WeatherData.csv\")"
   ]
  },
  {
   "cell_type": "code",
   "execution_count": 18,
   "metadata": {},
   "outputs": [
    {
     "data": {
      "text/html": [
       "<div>\n",
       "<style scoped>\n",
       "    .dataframe tbody tr th:only-of-type {\n",
       "        vertical-align: middle;\n",
       "    }\n",
       "\n",
       "    .dataframe tbody tr th {\n",
       "        vertical-align: top;\n",
       "    }\n",
       "\n",
       "    .dataframe thead th {\n",
       "        text-align: right;\n",
       "    }\n",
       "</style>\n",
       "<table border=\"1\" class=\"dataframe\">\n",
       "  <thead>\n",
       "    <tr style=\"text-align: right;\">\n",
       "      <th></th>\n",
       "      <th>latitude</th>\n",
       "      <th>longitude</th>\n",
       "      <th>temperature (F)</th>\n",
       "      <th>humidity</th>\n",
       "      <th>cloudiness</th>\n",
       "      <th>wind speed</th>\n",
       "    </tr>\n",
       "    <tr>\n",
       "      <th>city ID</th>\n",
       "      <th></th>\n",
       "      <th></th>\n",
       "      <th></th>\n",
       "      <th></th>\n",
       "      <th></th>\n",
       "      <th></th>\n",
       "    </tr>\n",
       "  </thead>\n",
       "  <tbody>\n",
       "    <tr>\n",
       "      <th>0</th>\n",
       "      <td>3.0707</td>\n",
       "      <td>172.7902</td>\n",
       "      <td>81.39</td>\n",
       "      <td>77</td>\n",
       "      <td>18</td>\n",
       "      <td>15.66</td>\n",
       "    </tr>\n",
       "    <tr>\n",
       "      <th>1</th>\n",
       "      <td>16.2923</td>\n",
       "      <td>119.8062</td>\n",
       "      <td>81.28</td>\n",
       "      <td>76</td>\n",
       "      <td>78</td>\n",
       "      <td>1.63</td>\n",
       "    </tr>\n",
       "    <tr>\n",
       "      <th>2</th>\n",
       "      <td>-9.0763</td>\n",
       "      <td>143.2092</td>\n",
       "      <td>79.86</td>\n",
       "      <td>83</td>\n",
       "      <td>26</td>\n",
       "      <td>7.56</td>\n",
       "    </tr>\n",
       "    <tr>\n",
       "      <th>3</th>\n",
       "      <td>-33.6971</td>\n",
       "      <td>-53.4616</td>\n",
       "      <td>65.55</td>\n",
       "      <td>69</td>\n",
       "      <td>64</td>\n",
       "      <td>10.42</td>\n",
       "    </tr>\n",
       "    <tr>\n",
       "      <th>4</th>\n",
       "      <td>-33.5906</td>\n",
       "      <td>26.8910</td>\n",
       "      <td>73.18</td>\n",
       "      <td>84</td>\n",
       "      <td>0</td>\n",
       "      <td>3.00</td>\n",
       "    </tr>\n",
       "  </tbody>\n",
       "</table>\n",
       "</div>"
      ],
      "text/plain": [
       "         latitude  longitude  temperature (F)  humidity  cloudiness  \\\n",
       "city ID                                                               \n",
       "0          3.0707   172.7902            81.39        77          18   \n",
       "1         16.2923   119.8062            81.28        76          78   \n",
       "2         -9.0763   143.2092            79.86        83          26   \n",
       "3        -33.6971   -53.4616            65.55        69          64   \n",
       "4        -33.5906    26.8910            73.18        84           0   \n",
       "\n",
       "         wind speed  \n",
       "city ID              \n",
       "0             15.66  \n",
       "1              1.63  \n",
       "2              7.56  \n",
       "3             10.42  \n",
       "4              3.00  "
      ]
     },
     "execution_count": 18,
     "metadata": {},
     "output_type": "execute_result"
    }
   ],
   "source": [
    "weatherdata.head()"
   ]
  },
  {
   "cell_type": "markdown",
   "metadata": {},
   "source": [
    "## Inspect the data and remove the cities where the humidity > 100%.\n",
    "----\n",
    "Skip this step if there are no cities that have humidity > 100%. "
   ]
  },
  {
   "cell_type": "code",
   "execution_count": null,
   "metadata": {},
   "outputs": [],
   "source": []
  },
  {
   "cell_type": "code",
   "execution_count": null,
   "metadata": {},
   "outputs": [],
   "source": [
    "#  Get the indices of cities that have humidity over 100%.\n"
   ]
  },
  {
   "cell_type": "code",
   "execution_count": null,
   "metadata": {},
   "outputs": [],
   "source": [
    "# Make a new DataFrame equal to the city data to drop all humidity outliers by index.\n",
    "# Passing \"inplace=False\" will make a copy of the city_data DataFrame, which we call \"clean_city_data\".\n"
   ]
  },
  {
   "cell_type": "code",
   "execution_count": null,
   "metadata": {},
   "outputs": [],
   "source": [
    "\n"
   ]
  },
  {
   "cell_type": "markdown",
   "metadata": {},
   "source": [
    "## Plotting the Data\n",
    "* Use proper labeling of the plots using plot titles (including date of analysis) and axes labels.\n",
    "* Save the plotted figures as .pngs."
   ]
  },
  {
   "cell_type": "markdown",
   "metadata": {},
   "source": [
    "## Latitude vs. Temperature Plot"
   ]
  },
  {
   "cell_type": "code",
   "execution_count": null,
   "metadata": {
    "scrolled": true
   },
   "outputs": [],
   "source": []
  },
  {
   "cell_type": "markdown",
   "metadata": {},
   "source": [
    "## Latitude vs. Humidity Plot"
   ]
  },
  {
   "cell_type": "code",
   "execution_count": null,
   "metadata": {},
   "outputs": [],
   "source": []
  },
  {
   "cell_type": "markdown",
   "metadata": {},
   "source": [
    "## Latitude vs. Cloudiness Plot"
   ]
  },
  {
   "cell_type": "code",
   "execution_count": null,
   "metadata": {},
   "outputs": [],
   "source": []
  },
  {
   "cell_type": "markdown",
   "metadata": {},
   "source": [
    "## Latitude vs. Wind Speed Plot"
   ]
  },
  {
   "cell_type": "code",
   "execution_count": null,
   "metadata": {},
   "outputs": [],
   "source": []
  },
  {
   "cell_type": "markdown",
   "metadata": {},
   "source": [
    "## Linear Regression"
   ]
  },
  {
   "cell_type": "code",
   "execution_count": null,
   "metadata": {},
   "outputs": [],
   "source": []
  },
  {
   "cell_type": "markdown",
   "metadata": {},
   "source": [
    "####  Northern Hemisphere - Max Temp vs. Latitude Linear Regression"
   ]
  },
  {
   "cell_type": "code",
   "execution_count": null,
   "metadata": {},
   "outputs": [],
   "source": []
  },
  {
   "cell_type": "markdown",
   "metadata": {},
   "source": [
    "####  Southern Hemisphere - Max Temp vs. Latitude Linear Regression"
   ]
  },
  {
   "cell_type": "code",
   "execution_count": null,
   "metadata": {},
   "outputs": [],
   "source": []
  },
  {
   "cell_type": "markdown",
   "metadata": {},
   "source": [
    "####  Northern Hemisphere - Humidity (%) vs. Latitude Linear Regression"
   ]
  },
  {
   "cell_type": "code",
   "execution_count": null,
   "metadata": {},
   "outputs": [],
   "source": []
  },
  {
   "cell_type": "markdown",
   "metadata": {},
   "source": [
    "####  Southern Hemisphere - Humidity (%) vs. Latitude Linear Regression"
   ]
  },
  {
   "cell_type": "code",
   "execution_count": null,
   "metadata": {},
   "outputs": [],
   "source": []
  },
  {
   "cell_type": "markdown",
   "metadata": {},
   "source": [
    "####  Northern Hemisphere - Cloudiness (%) vs. Latitude Linear Regression"
   ]
  },
  {
   "cell_type": "code",
   "execution_count": null,
   "metadata": {},
   "outputs": [],
   "source": []
  },
  {
   "cell_type": "markdown",
   "metadata": {},
   "source": [
    "####  Southern Hemisphere - Cloudiness (%) vs. Latitude Linear Regression"
   ]
  },
  {
   "cell_type": "code",
   "execution_count": null,
   "metadata": {},
   "outputs": [],
   "source": []
  },
  {
   "cell_type": "markdown",
   "metadata": {},
   "source": [
    "####  Northern Hemisphere - Wind Speed (mph) vs. Latitude Linear Regression"
   ]
  },
  {
   "cell_type": "code",
   "execution_count": null,
   "metadata": {},
   "outputs": [],
   "source": []
  },
  {
   "cell_type": "markdown",
   "metadata": {},
   "source": [
    "####  Southern Hemisphere - Wind Speed (mph) vs. Latitude Linear Regression"
   ]
  },
  {
   "cell_type": "code",
   "execution_count": null,
   "metadata": {},
   "outputs": [],
   "source": []
  },
  {
   "cell_type": "code",
   "execution_count": null,
   "metadata": {},
   "outputs": [],
   "source": []
  }
 ],
 "metadata": {
  "anaconda-cloud": {},
  "kernel_info": {
   "name": "python3"
  },
  "kernelspec": {
   "display_name": "PythonData",
   "language": "python",
   "name": "pythondata"
  },
  "language_info": {
   "codemirror_mode": {
    "name": "ipython",
    "version": 3
   },
   "file_extension": ".py",
   "mimetype": "text/x-python",
   "name": "python",
   "nbconvert_exporter": "python",
   "pygments_lexer": "ipython3",
   "version": "3.7.7"
  },
  "latex_envs": {
   "LaTeX_envs_menu_present": true,
   "autoclose": false,
   "autocomplete": true,
   "bibliofile": "biblio.bib",
   "cite_by": "apalike",
   "current_citInitial": 1,
   "eqLabelWithNumbers": true,
   "eqNumInitial": 1,
   "hotkeys": {
    "equation": "Ctrl-E",
    "itemize": "Ctrl-I"
   },
   "labels_anchors": false,
   "latex_user_defs": false,
   "report_style_numbering": false,
   "user_envs_cfg": false
  },
  "nteract": {
   "version": "0.12.3"
  }
 },
 "nbformat": 4,
 "nbformat_minor": 2
}
